{
 "cells": [
  {
   "cell_type": "markdown",
   "id": "9abdda8b",
   "metadata": {},
   "source": [
    "#### Doc \n",
    "https://medium.com/analytics-vidhya/understanding-principle-component-analysis-pca-step-by-step-e7a4bb4031d9"
   ]
  },
  {
   "cell_type": "code",
   "execution_count": 1,
   "id": "2c73bfbc",
   "metadata": {},
   "outputs": [],
   "source": [
    "import pandas as pd\n",
    "import numpy as np\n",
    "from sklearn.decomposition import PCA\n",
    "from sklearn.preprocessing import StandardScaler\n",
    "import plotly.graph_objects as go"
   ]
  },
  {
   "cell_type": "code",
   "execution_count": 2,
   "id": "c25d00dd",
   "metadata": {},
   "outputs": [
    {
     "data": {
      "text/html": [
       "<div>\n",
       "<style scoped>\n",
       "    .dataframe tbody tr th:only-of-type {\n",
       "        vertical-align: middle;\n",
       "    }\n",
       "\n",
       "    .dataframe tbody tr th {\n",
       "        vertical-align: top;\n",
       "    }\n",
       "\n",
       "    .dataframe thead th {\n",
       "        text-align: right;\n",
       "    }\n",
       "</style>\n",
       "<table border=\"1\" class=\"dataframe\">\n",
       "  <thead>\n",
       "    <tr style=\"text-align: right;\">\n",
       "      <th></th>\n",
       "      <th>Model Year</th>\n",
       "      <th>Make</th>\n",
       "      <th>Model</th>\n",
       "      <th>Vehicle Class</th>\n",
       "      <th>Engine Size</th>\n",
       "      <th>Cylinders</th>\n",
       "      <th>Transmission</th>\n",
       "      <th>Fuel</th>\n",
       "      <th>Fuel Consumption City</th>\n",
       "      <th>Fuel Consumption Hwy</th>\n",
       "      <th>Fuel Consumption</th>\n",
       "      <th>Fuel Consumption Comb_mpg</th>\n",
       "      <th>CO2 Emissions</th>\n",
       "      <th>CO2 Rating</th>\n",
       "      <th>Smog Rating</th>\n",
       "    </tr>\n",
       "  </thead>\n",
       "  <tbody>\n",
       "    <tr>\n",
       "      <th>0</th>\n",
       "      <td>2022</td>\n",
       "      <td>Acura</td>\n",
       "      <td>ILX</td>\n",
       "      <td>Compact</td>\n",
       "      <td>2.4</td>\n",
       "      <td>4</td>\n",
       "      <td>AM8</td>\n",
       "      <td>Z</td>\n",
       "      <td>9.9</td>\n",
       "      <td>7.0</td>\n",
       "      <td>8.6</td>\n",
       "      <td>33</td>\n",
       "      <td>200</td>\n",
       "      <td>6</td>\n",
       "      <td>3</td>\n",
       "    </tr>\n",
       "    <tr>\n",
       "      <th>1</th>\n",
       "      <td>2022</td>\n",
       "      <td>Acura</td>\n",
       "      <td>MDX SH-AWD</td>\n",
       "      <td>SUV: Small</td>\n",
       "      <td>3.5</td>\n",
       "      <td>6</td>\n",
       "      <td>AS10</td>\n",
       "      <td>Z</td>\n",
       "      <td>12.6</td>\n",
       "      <td>9.4</td>\n",
       "      <td>11.2</td>\n",
       "      <td>25</td>\n",
       "      <td>263</td>\n",
       "      <td>4</td>\n",
       "      <td>5</td>\n",
       "    </tr>\n",
       "    <tr>\n",
       "      <th>2</th>\n",
       "      <td>2022</td>\n",
       "      <td>Acura</td>\n",
       "      <td>RDX SH-AWD</td>\n",
       "      <td>SUV: Small</td>\n",
       "      <td>2.0</td>\n",
       "      <td>4</td>\n",
       "      <td>AS10</td>\n",
       "      <td>Z</td>\n",
       "      <td>11.0</td>\n",
       "      <td>8.6</td>\n",
       "      <td>9.9</td>\n",
       "      <td>29</td>\n",
       "      <td>232</td>\n",
       "      <td>5</td>\n",
       "      <td>6</td>\n",
       "    </tr>\n",
       "    <tr>\n",
       "      <th>3</th>\n",
       "      <td>2022</td>\n",
       "      <td>Acura</td>\n",
       "      <td>RDX SH-AWD A-SPEC</td>\n",
       "      <td>SUV: Small</td>\n",
       "      <td>2.0</td>\n",
       "      <td>4</td>\n",
       "      <td>AS10</td>\n",
       "      <td>Z</td>\n",
       "      <td>11.3</td>\n",
       "      <td>9.1</td>\n",
       "      <td>10.3</td>\n",
       "      <td>27</td>\n",
       "      <td>242</td>\n",
       "      <td>5</td>\n",
       "      <td>6</td>\n",
       "    </tr>\n",
       "    <tr>\n",
       "      <th>4</th>\n",
       "      <td>2022</td>\n",
       "      <td>Acura</td>\n",
       "      <td>TLX SH-AWD</td>\n",
       "      <td>Compact</td>\n",
       "      <td>2.0</td>\n",
       "      <td>4</td>\n",
       "      <td>AS10</td>\n",
       "      <td>Z</td>\n",
       "      <td>11.2</td>\n",
       "      <td>8.0</td>\n",
       "      <td>9.8</td>\n",
       "      <td>29</td>\n",
       "      <td>230</td>\n",
       "      <td>5</td>\n",
       "      <td>7</td>\n",
       "    </tr>\n",
       "  </tbody>\n",
       "</table>\n",
       "</div>"
      ],
      "text/plain": [
       "   Model Year   Make              Model Vehicle Class  Engine Size  Cylinders  \\\n",
       "0        2022  Acura                ILX       Compact          2.4          4   \n",
       "1        2022  Acura         MDX SH-AWD    SUV: Small          3.5          6   \n",
       "2        2022  Acura         RDX SH-AWD    SUV: Small          2.0          4   \n",
       "3        2022  Acura  RDX SH-AWD A-SPEC    SUV: Small          2.0          4   \n",
       "4        2022  Acura         TLX SH-AWD       Compact          2.0          4   \n",
       "\n",
       "  Transmission Fuel  Fuel Consumption City  Fuel Consumption Hwy  \\\n",
       "0          AM8    Z                    9.9                   7.0   \n",
       "1         AS10    Z                   12.6                   9.4   \n",
       "2         AS10    Z                   11.0                   8.6   \n",
       "3         AS10    Z                   11.3                   9.1   \n",
       "4         AS10    Z                   11.2                   8.0   \n",
       "\n",
       "   Fuel Consumption  Fuel Consumption Comb_mpg  CO2 Emissions  CO2 Rating  \\\n",
       "0               8.6                         33            200           6   \n",
       "1              11.2                         25            263           4   \n",
       "2               9.9                         29            232           5   \n",
       "3              10.3                         27            242           5   \n",
       "4               9.8                         29            230           5   \n",
       "\n",
       "   Smog Rating  \n",
       "0            3  \n",
       "1            5  \n",
       "2            6  \n",
       "3            6  \n",
       "4            7  "
      ]
     },
     "execution_count": 2,
     "metadata": {},
     "output_type": "execute_result"
    }
   ],
   "source": [
    "# Read dataset\n",
    "df = pd.read_csv(\"../data/fuel_consumption/Fuel_Consumption_Ratings.csv\") # changed index_col\n",
    "df.head()"
   ]
  },
  {
   "cell_type": "code",
   "execution_count": 3,
   "id": "a1214acb",
   "metadata": {},
   "outputs": [],
   "source": [
    "df1 = df[[\"Engine Size\",\"Cylinders\",\"Fuel Consumption City\",\"Fuel Consumption Hwy\",\"Fuel Consumption\",\"Fuel Consumption Comb_mpg\",\"CO2 Emissions\"]]\n",
    "# Scale data before applying PCA\n",
    "scaling=StandardScaler()\n",
    " \n",
    "# Use fit and transform method \n",
    "scaling.fit(df1)\n",
    "Scaled_data=scaling.transform(df1)"
   ]
  },
  {
   "cell_type": "code",
   "execution_count": 4,
   "id": "b66f70d2",
   "metadata": {},
   "outputs": [
    {
     "data": {
      "text/plain": [
       "array([[-0.58736541, -0.87138956, -0.76592053, ..., -0.87689859,\n",
       "         0.76045331, -0.92840858],\n",
       "       [ 0.21605563,  0.16301321,  0.01492958, ...,  0.02364703,\n",
       "        -0.28092746,  0.04462041],\n",
       "       [-0.87951851, -0.87138956, -0.44779641, ..., -0.42662578,\n",
       "         0.23976293, -0.43417163],\n",
       "       ...,\n",
       "       [-0.87951851, -0.87138956, -0.44779641, ..., -0.42662578,\n",
       "         0.23976293, -0.43417163],\n",
       "       [-0.87951851, -0.87138956, -0.30319454, ..., -0.35735304,\n",
       "         0.10959033, -0.37239201],\n",
       "       [-0.87951851, -0.87138956, -0.04291117, ..., -0.11489845,\n",
       "        -0.15075486, -0.12527354]])"
      ]
     },
     "execution_count": 4,
     "metadata": {},
     "output_type": "execute_result"
    }
   ],
   "source": [
    "Scaled_data"
   ]
  },
  {
   "cell_type": "code",
   "execution_count": 5,
   "id": "8fafad46",
   "metadata": {},
   "outputs": [],
   "source": [
    "# Set the n_components=1\n",
    "principal=PCA(n_components=2)\n",
    "principal.fit(Scaled_data)\n",
    "x=principal.transform(Scaled_data)"
   ]
  },
  {
   "cell_type": "code",
   "execution_count": 6,
   "id": "0646a1f0",
   "metadata": {},
   "outputs": [
    {
     "data": {
      "text/plain": [
       "array([[ 0.3548312 ,  0.35626417,  0.39538592,  0.3784573 ,  0.39641806,\n",
       "        -0.36803194,  0.39372062],\n",
       "       [ 0.58641482,  0.58771207, -0.08897901, -0.30916827, -0.17103019,\n",
       "         0.40293521, -0.12490713]])"
      ]
     },
     "execution_count": 6,
     "metadata": {},
     "output_type": "execute_result"
    }
   ],
   "source": [
    "principal.components_"
   ]
  },
  {
   "cell_type": "code",
   "execution_count": 7,
   "id": "b4249671",
   "metadata": {},
   "outputs": [
    {
     "name": "stdout",
     "output_type": "stream",
     "text": [
      "[0.88495027 0.07254584]\n"
     ]
    }
   ],
   "source": [
    "# check how much variance is explained by each principal component\n",
    "print(principal.explained_variance_ratio_)"
   ]
  },
  {
   "cell_type": "code",
   "execution_count": 8,
   "id": "9f414ef3",
   "metadata": {},
   "outputs": [
    {
     "data": {
      "text/plain": [
       "array([6.20114523, 0.50835322])"
      ]
     },
     "execution_count": 8,
     "metadata": {},
     "output_type": "execute_result"
    }
   ],
   "source": [
    "principal.explained_variance_"
   ]
  },
  {
   "cell_type": "code",
   "execution_count": null,
   "id": "17d35ade",
   "metadata": {},
   "outputs": [],
   "source": []
  }
 ],
 "metadata": {
  "kernelspec": {
   "display_name": "data_toolbox",
   "language": "python",
   "name": "data_toolbox"
  },
  "language_info": {
   "codemirror_mode": {
    "name": "ipython",
    "version": 3
   },
   "file_extension": ".py",
   "mimetype": "text/x-python",
   "name": "python",
   "nbconvert_exporter": "python",
   "pygments_lexer": "ipython3",
   "version": "3.7.3"
  }
 },
 "nbformat": 4,
 "nbformat_minor": 5
}
