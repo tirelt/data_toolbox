{
 "cells": [
  {
   "cell_type": "code",
   "execution_count": 25,
   "id": "f6009e17",
   "metadata": {},
   "outputs": [],
   "source": [
    "import numpy as np\n",
    "import pandas as pd\n",
    "import plotly.graph_objects as go\n",
    "import plotly.io as pio\n",
    "pio.renderers.default = 'iframe'\n",
    "\n",
    "from sklearn.model_selection import train_test_split,GridSearchCV\n",
    "from sklearn import preprocessing\n",
    "\n",
    "from sklearn.cluster import KMeans\n",
    "\n",
    "import plotly.express as px\n",
    "\n",
    "from sklearn.metrics import silhouette_score"
   ]
  },
  {
   "cell_type": "code",
   "execution_count": 3,
   "id": "890678dd",
   "metadata": {},
   "outputs": [
    {
     "data": {
      "text/html": [
       "<div>\n",
       "<style scoped>\n",
       "    .dataframe tbody tr th:only-of-type {\n",
       "        vertical-align: middle;\n",
       "    }\n",
       "\n",
       "    .dataframe tbody tr th {\n",
       "        vertical-align: top;\n",
       "    }\n",
       "\n",
       "    .dataframe thead th {\n",
       "        text-align: right;\n",
       "    }\n",
       "</style>\n",
       "<table border=\"1\" class=\"dataframe\">\n",
       "  <thead>\n",
       "    <tr style=\"text-align: right;\">\n",
       "      <th></th>\n",
       "      <th>longitude</th>\n",
       "      <th>latitude</th>\n",
       "      <th>median_house_value</th>\n",
       "    </tr>\n",
       "  </thead>\n",
       "  <tbody>\n",
       "    <tr>\n",
       "      <th>0</th>\n",
       "      <td>-122.23</td>\n",
       "      <td>37.88</td>\n",
       "      <td>452600.0</td>\n",
       "    </tr>\n",
       "    <tr>\n",
       "      <th>1</th>\n",
       "      <td>-122.22</td>\n",
       "      <td>37.86</td>\n",
       "      <td>358500.0</td>\n",
       "    </tr>\n",
       "    <tr>\n",
       "      <th>2</th>\n",
       "      <td>-122.24</td>\n",
       "      <td>37.85</td>\n",
       "      <td>352100.0</td>\n",
       "    </tr>\n",
       "    <tr>\n",
       "      <th>3</th>\n",
       "      <td>-122.25</td>\n",
       "      <td>37.85</td>\n",
       "      <td>341300.0</td>\n",
       "    </tr>\n",
       "    <tr>\n",
       "      <th>4</th>\n",
       "      <td>-122.25</td>\n",
       "      <td>37.85</td>\n",
       "      <td>342200.0</td>\n",
       "    </tr>\n",
       "  </tbody>\n",
       "</table>\n",
       "</div>"
      ],
      "text/plain": [
       "   longitude  latitude  median_house_value\n",
       "0    -122.23     37.88            452600.0\n",
       "1    -122.22     37.86            358500.0\n",
       "2    -122.24     37.85            352100.0\n",
       "3    -122.25     37.85            341300.0\n",
       "4    -122.25     37.85            342200.0"
      ]
     },
     "execution_count": 3,
     "metadata": {},
     "output_type": "execute_result"
    }
   ],
   "source": [
    "home_data = pd.read_csv('../data/california_housing_prices/housing.csv', usecols = ['longitude', 'latitude', 'median_house_value'])\n",
    "home_data.head()"
   ]
  },
  {
   "cell_type": "code",
   "execution_count": 4,
   "id": "d05ae982",
   "metadata": {},
   "outputs": [
    {
     "name": "stdout",
     "output_type": "stream",
     "text": [
      "<class 'pandas.core.frame.DataFrame'>\n",
      "RangeIndex: 20640 entries, 0 to 20639\n",
      "Data columns (total 3 columns):\n",
      " #   Column              Non-Null Count  Dtype  \n",
      "---  ------              --------------  -----  \n",
      " 0   longitude           20640 non-null  float64\n",
      " 1   latitude            20640 non-null  float64\n",
      " 2   median_house_value  20640 non-null  float64\n",
      "dtypes: float64(3)\n",
      "memory usage: 483.8 KB\n"
     ]
    }
   ],
   "source": [
    "home_data.info()"
   ]
  },
  {
   "cell_type": "markdown",
   "id": "a9c469cb",
   "metadata": {},
   "source": [
    "### Visualize the Data"
   ]
  },
  {
   "cell_type": "code",
   "execution_count": 5,
   "id": "78e57fe9",
   "metadata": {},
   "outputs": [
    {
     "data": {
      "text/html": [
       "<iframe\n",
       "    scrolling=\"no\"\n",
       "    width=\"100%\"\n",
       "    height=\"545px\"\n",
       "    src=\"iframe_figures/figure_5.html\"\n",
       "    frameborder=\"0\"\n",
       "    allowfullscreen\n",
       "></iframe>\n"
      ]
     },
     "metadata": {},
     "output_type": "display_data"
    }
   ],
   "source": [
    "fig = go.Figure()\n",
    "fig.add_trace(go.Scatter(x=home_data['longitude'], y=home_data['latitude'],mode='markers', \n",
    "                         marker=dict(color=home_data['median_house_value'],showscale=True)))\n",
    "fig.update_layout(title=f\"house value\", yaxis_title='latitude', xaxis_title='longitude')\n",
    "fig.show()"
   ]
  },
  {
   "cell_type": "markdown",
   "id": "438a806b",
   "metadata": {},
   "source": [
    "### Normalizing the Data"
   ]
  },
  {
   "cell_type": "code",
   "execution_count": 27,
   "id": "53d67d05",
   "metadata": {},
   "outputs": [],
   "source": [
    "X_train, X_test, y_train, y_test = train_test_split(home_data[['latitude', 'longitude','median_house_value']], home_data[['median_house_value']], test_size=0.33, random_state=0)\n",
    "X_train_norm = preprocessing.normalize(X_train)\n",
    "X_test_norm = preprocessing.normalize(X_test)"
   ]
  },
  {
   "cell_type": "markdown",
   "id": "8ba64b4b",
   "metadata": {},
   "source": [
    "### Fitting and Evaluating the Model"
   ]
  },
  {
   "cell_type": "code",
   "execution_count": 30,
   "id": "190b9e4f",
   "metadata": {},
   "outputs": [
    {
     "data": {
      "text/plain": [
       "KMeans(n_clusters=3, random_state=42)"
      ]
     },
     "execution_count": 30,
     "metadata": {},
     "output_type": "execute_result"
    }
   ],
   "source": [
    "kmeans = KMeans(n_clusters = 3, random_state = 42)\n",
    "kmeans.fit(X_train_norm)"
   ]
  },
  {
   "cell_type": "code",
   "execution_count": 31,
   "id": "75deb538",
   "metadata": {},
   "outputs": [
    {
     "data": {
      "text/plain": [
       "array([2, 0, 2, ..., 0, 0, 1])"
      ]
     },
     "execution_count": 31,
     "metadata": {},
     "output_type": "execute_result"
    }
   ],
   "source": [
    "kmeans.labels_"
   ]
  },
  {
   "cell_type": "code",
   "execution_count": 32,
   "id": "5e8603b5",
   "metadata": {},
   "outputs": [
    {
     "data": {
      "text/html": [
       "<iframe\n",
       "    scrolling=\"no\"\n",
       "    width=\"100%\"\n",
       "    height=\"545px\"\n",
       "    src=\"iframe_figures/figure_32.html\"\n",
       "    frameborder=\"0\"\n",
       "    allowfullscreen\n",
       "></iframe>\n"
      ]
     },
     "metadata": {},
     "output_type": "display_data"
    }
   ],
   "source": [
    "fig = go.Figure()\n",
    "fig.add_trace(go.Scatter(x=X_train['longitude'], y=X_train['latitude'],mode='markers', \n",
    "                         marker=dict(color=kmeans.labels_,showscale=True)))\n",
    "fig.update_layout(title=f\"house value\", yaxis_title='latitude', xaxis_title='longitude')\n",
    "fig.show()"
   ]
  },
  {
   "cell_type": "code",
   "execution_count": 33,
   "id": "feeeae57",
   "metadata": {},
   "outputs": [],
   "source": [
    "box_df= y_train\n",
    "box_df['Cluster']=kmeans.labels_"
   ]
  },
  {
   "cell_type": "code",
   "execution_count": 34,
   "id": "637e977e",
   "metadata": {},
   "outputs": [
    {
     "data": {
      "text/html": [
       "<iframe\n",
       "    scrolling=\"no\"\n",
       "    width=\"100%\"\n",
       "    height=\"545px\"\n",
       "    src=\"iframe_figures/figure_34.html\"\n",
       "    frameborder=\"0\"\n",
       "    allowfullscreen\n",
       "></iframe>\n"
      ]
     },
     "metadata": {},
     "output_type": "display_data"
    }
   ],
   "source": [
    "fig = px.box(box_df, x=\"Cluster\", y=\"median_house_value\")\n",
    "fig.show()"
   ]
  },
  {
   "cell_type": "code",
   "execution_count": 35,
   "id": "815d35ca",
   "metadata": {},
   "outputs": [
    {
     "data": {
      "text/plain": [
       "0.0007795012160685037"
      ]
     },
     "execution_count": 35,
     "metadata": {},
     "output_type": "execute_result"
    }
   ],
   "source": [
    "kmeans.inertia_"
   ]
  },
  {
   "cell_type": "code",
   "execution_count": 36,
   "id": "cbad5504",
   "metadata": {},
   "outputs": [
    {
     "data": {
      "text/plain": [
       "-0.0007795012160685038"
      ]
     },
     "execution_count": 36,
     "metadata": {},
     "output_type": "execute_result"
    }
   ],
   "source": [
    "kmeans.score(X_train_norm)"
   ]
  },
  {
   "cell_type": "code",
   "execution_count": 37,
   "id": "fea5b8c4",
   "metadata": {},
   "outputs": [
    {
     "data": {
      "text/plain": [
       "-0.000364182266925372"
      ]
     },
     "execution_count": 37,
     "metadata": {},
     "output_type": "execute_result"
    }
   ],
   "source": [
    "kmeans.score(X_test_norm)"
   ]
  },
  {
   "cell_type": "code",
   "execution_count": 38,
   "id": "d65b5453",
   "metadata": {},
   "outputs": [],
   "source": [
    "#\"Opposite of the value of X on the K-means objective.\" It means negative of the K-means objective."
   ]
  },
  {
   "cell_type": "markdown",
   "id": "5c6afcdf",
   "metadata": {},
   "source": [
    "### Choosing the best number of clusters"
   ]
  },
  {
   "cell_type": "code",
   "execution_count": 39,
   "id": "b2737ad8",
   "metadata": {},
   "outputs": [],
   "source": [
    "K = range(2, 8)\n",
    "fits = []\n",
    "score = []\n",
    "\n",
    "\n",
    "for k in K:\n",
    "    # train the model for current value of k on training data\n",
    "    model = KMeans(n_clusters = k, random_state = 0).fit(X_train_norm)\n",
    "    \n",
    "    # append the model to fits\n",
    "    fits.append(model)\n",
    "    \n",
    "    # Append the silhouette score to scores\n",
    "    score.append(model.inertia_)"
   ]
  },
  {
   "cell_type": "code",
   "execution_count": 40,
   "id": "b94413fd",
   "metadata": {},
   "outputs": [
    {
     "data": {
      "text/plain": [
       "[0.0013679826700646889,\n",
       " 0.0007795048576701006,\n",
       " 0.000529398708359306,\n",
       " 0.0003631728120112357,\n",
       " 0.00025637670865566155,\n",
       " 0.00018848748106956386]"
      ]
     },
     "execution_count": 40,
     "metadata": {},
     "output_type": "execute_result"
    }
   ],
   "source": [
    "score"
   ]
  },
  {
   "cell_type": "code",
   "execution_count": 41,
   "id": "aeafc6df",
   "metadata": {},
   "outputs": [
    {
     "name": "stdout",
     "output_type": "stream",
     "text": [
      "Best parameters found:  {'n_clusters': 7}\n",
      "best score:  -3.852138795434785e-05\n"
     ]
    }
   ],
   "source": [
    "grid_param = { \n",
    "    'n_clusters': range(2, 8),\n",
    "}\n",
    "model = KMeans(random_state = 0)\n",
    "grid_mse = GridSearchCV(estimator=model, param_grid=grid_param, cv=5, verbose=0)\n",
    "grid_mse.fit(X_train_norm)\n",
    "print(\"Best parameters found: \", grid_mse.best_params_)\n",
    "print(\"best score: \", grid_mse.best_score_)"
   ]
  },
  {
   "cell_type": "code",
   "execution_count": 46,
   "id": "eb1002df",
   "metadata": {},
   "outputs": [
    {
     "data": {
      "text/html": [
       "<iframe\n",
       "    scrolling=\"no\"\n",
       "    width=\"100%\"\n",
       "    height=\"545px\"\n",
       "    src=\"iframe_figures/figure_46.html\"\n",
       "    frameborder=\"0\"\n",
       "    allowfullscreen\n",
       "></iframe>\n"
      ]
     },
     "metadata": {},
     "output_type": "display_data"
    }
   ],
   "source": [
    "fig = go.Figure()\n",
    "fig.add_trace(go.Scatter(x=X_train['longitude'], y=X_train['latitude'],mode='markers', \n",
    "                         marker=dict(color=fits[5].labels_,showscale=True)))\n",
    "fig.update_layout(title=f\"house value\", yaxis_title='latitude', xaxis_title='longitude')\n",
    "fig.show()"
   ]
  },
  {
   "cell_type": "code",
   "execution_count": null,
   "id": "553c68e5",
   "metadata": {},
   "outputs": [],
   "source": []
  }
 ],
 "metadata": {
  "kernelspec": {
   "display_name": "data_toolbox",
   "language": "python",
   "name": "data_toolbox"
  },
  "language_info": {
   "codemirror_mode": {
    "name": "ipython",
    "version": 3
   },
   "file_extension": ".py",
   "mimetype": "text/x-python",
   "name": "python",
   "nbconvert_exporter": "python",
   "pygments_lexer": "ipython3",
   "version": "3.7.3"
  }
 },
 "nbformat": 4,
 "nbformat_minor": 5
}
